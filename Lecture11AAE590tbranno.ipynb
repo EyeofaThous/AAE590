{
  "nbformat": 4,
  "nbformat_minor": 0,
  "metadata": {
    "colab": {
      "provenance": [],
      "authorship_tag": "ABX9TyNsgb3CBIBWTVuVPU38fTaM",
      "include_colab_link": true
    },
    "kernelspec": {
      "name": "python3",
      "display_name": "Python 3"
    },
    "language_info": {
      "name": "python"
    }
  },
  "cells": [
    {
      "cell_type": "markdown",
      "metadata": {
        "id": "view-in-github",
        "colab_type": "text"
      },
      "source": [
        "<a href=\"https://colab.research.google.com/github/EyeofaThous/AAE590/blob/main/Lecture11AAE590tbranno.ipynb\" target=\"_parent\"><img src=\"https://colab.research.google.com/assets/colab-badge.svg\" alt=\"Open In Colab\"/></a>"
      ]
    },
    {
      "cell_type": "code",
      "execution_count": 60,
      "metadata": {
        "colab": {
          "base_uri": "https://localhost:8080/"
        },
        "id": "P86e_yy3Mbju",
        "outputId": "6656b8d4-e790-49d7-935e-8f32f141eb3e"
      },
      "outputs": [
        {
          "output_type": "stream",
          "name": "stdout",
          "text": [
            "Predicted yield strength: 540.45 MPa\n",
            "Uncertainty: 0.10 MPa\n"
          ]
        },
        {
          "output_type": "stream",
          "name": "stderr",
          "text": [
            "/usr/local/lib/python3.11/dist-packages/sklearn/gaussian_process/kernels.py:452: ConvergenceWarning: The optimal value found for dimension 0 of parameter k1__constant_value is close to the specified upper bound 1000.0. Increasing the bound and calling fit again may find a better value.\n",
            "  warnings.warn(\n"
          ]
        }
      ],
      "source": [
        "import numpy as np\n",
        "from sklearn.gaussian_process import GaussianProcessRegressor\n",
        "from sklearn.gaussian_process.kernels import RBF, ConstantKernel as C\n",
        "\n",
        "# Sample data (replace with your actual data)\n",
        "X = np.array([[0.1, 0.5, 0.2, 0.1],  # C, Mn, Si, Cr\n",
        "              [0.2, 0.6, 0.3, 0.2],\n",
        "              [0.15, 0.55, 0.25, 0.15]])\n",
        "\n",
        "y = np.array([500, 550, 525])  # Yield strength\n",
        "\n",
        "# Define the kernel\n",
        "kernel = C(1.0, (1e-3, 1e3)) * RBF([1.0, 1.0, 1.0, 1.0], (1e-2, 1e2))\n",
        "\n",
        "# Create and fit the GP model\n",
        "gp = GaussianProcessRegressor(kernel=kernel, n_restarts_optimizer=10)\n",
        "gp.fit(X, y)\n",
        "\n",
        "# Predict for a new composition\n",
        "X_new = np.array([[0.18, 0.58, 0.28, 0.18]])\n",
        "y_pred, sigma = gp.predict(X_new, return_std=True)\n",
        "\n",
        "print(f\"Predicted yield strength: {y_pred[0]:.2f} MPa\")\n",
        "print(f\"Uncertainty: {sigma[0]:.2f} MPa\")"
      ]
    },
    {
      "cell_type": "code",
      "source": [
        "import numpy as np\n",
        "from sklearn.gaussian_process import GaussianProcessRegressor\n",
        "from sklearn.gaussian_process.kernels import RBF, ConstantKernel as C, Matern\n",
        "\n",
        "# Sample data (replace with actual alloy composition and yield strength data)\n",
        "X = np.array([[0.1, 0.5, 0.2, 0.1],  # C, Mn, Si, Cr\n",
        "              [0.2, 0.6, 0.3, 0.2],\n",
        "              [0.15, 0.55, 0.25, 0.15]])\n",
        "\n",
        "y = np.array([500, 550, 525])  # Yield strength in MPa\n",
        "\n",
        "# Define the kernel\n",
        "kernel = C(1.0) * RBF([1.0, 1.0, 1.0, 1.0]) + Matern(length_scale=[1.0, 1.0, 1.0, 1.0], nu=1.5)\n",
        "\n",
        "# Create and fit the GP model\n",
        "gp = GaussianProcessRegressor(kernel=kernel, n_restarts_optimizer=10)\n",
        "gp.fit(X, y)\n",
        "\n",
        "# Predict for a new composition (any exploration)\n",
        "X_new = np.array([[0.25, 0.7, 0.35, 0.25]])\n",
        "y_pred, sigma = gp.predict(X_new, return_std=True)\n",
        "\n",
        "print(f\"Predicted yield strength: {y_pred[0]:.2f} MPa\")\n",
        "print(f\"Uncertainty: {sigma[0]:.2f} MPa\")"
      ],
      "metadata": {
        "colab": {
          "base_uri": "https://localhost:8080/"
        },
        "id": "_ZvyN98UMeCU",
        "outputId": "e0b453de-bde1-4bf9-82d7-fc0e93e1fbc6"
      },
      "execution_count": 62,
      "outputs": [
        {
          "output_type": "stream",
          "name": "stdout",
          "text": [
            "Predicted yield strength: 572.63 MPa\n",
            "Uncertainty: 2.71 MPa\n"
          ]
        },
        {
          "output_type": "stream",
          "name": "stderr",
          "text": [
            "/usr/local/lib/python3.11/dist-packages/sklearn/gaussian_process/kernels.py:452: ConvergenceWarning: The optimal value found for dimension 0 of parameter k1__k1__constant_value is close to the specified upper bound 100000.0. Increasing the bound and calling fit again may find a better value.\n",
            "  warnings.warn(\n",
            "/usr/local/lib/python3.11/dist-packages/sklearn/gaussian_process/kernels.py:452: ConvergenceWarning: The optimal value found for dimension 2 of parameter k1__k2__length_scale is close to the specified upper bound 100000.0. Increasing the bound and calling fit again may find a better value.\n",
            "  warnings.warn(\n"
          ]
        }
      ]
    },
    {
      "cell_type": "code",
      "source": [],
      "metadata": {
        "id": "eu2Sp1oHRsXG"
      },
      "execution_count": 58,
      "outputs": []
    },
    {
      "cell_type": "code",
      "source": [],
      "metadata": {
        "id": "e1ziUGxBSvzW"
      },
      "execution_count": null,
      "outputs": []
    }
  ]
}